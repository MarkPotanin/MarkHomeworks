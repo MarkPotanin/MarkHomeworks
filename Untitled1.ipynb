{
 "cells": [
  {
   "cell_type": "code",
   "execution_count": 1,
   "metadata": {
    "collapsed": true
   },
   "outputs": [],
   "source": [
    "import pandas as pd\n",
    "import numpy as np\n",
    "\n",
    "import scipy\n",
    "from statsmodels.stats.weightstats import *"
   ]
  },
  {
   "cell_type": "code",
   "execution_count": 2,
   "metadata": {
    "collapsed": false
   },
   "outputs": [],
   "source": [
    "data=pd.read_csv('gene_high_throughput_sequencing.csv')"
   ]
  },
  {
   "cell_type": "code",
   "execution_count": null,
   "metadata": {
    "collapsed": false
   },
   "outputs": [],
   "source": []
  },
  {
   "cell_type": "code",
   "execution_count": null,
   "metadata": {
    "collapsed": false
   },
   "outputs": [],
   "source": []
  },
  {
   "cell_type": "code",
   "execution_count": null,
   "metadata": {
    "collapsed": false
   },
   "outputs": [],
   "source": []
  },
  {
   "cell_type": "code",
   "execution_count": null,
   "metadata": {
    "collapsed": false
   },
   "outputs": [],
   "source": []
  },
  {
   "cell_type": "code",
   "execution_count": null,
   "metadata": {
    "collapsed": false
   },
   "outputs": [],
   "source": []
  },
  {
   "cell_type": "code",
   "execution_count": null,
   "metadata": {
    "collapsed": true
   },
   "outputs": [],
   "source": [
    "\n"
   ]
  },
  {
   "cell_type": "code",
   "execution_count": null,
   "metadata": {
    "collapsed": false
   },
   "outputs": [],
   "source": []
  },
  {
   "cell_type": "code",
   "execution_count": null,
   "metadata": {
    "collapsed": false
   },
   "outputs": [],
   "source": []
  },
  {
   "cell_type": "code",
   "execution_count": null,
   "metadata": {
    "collapsed": false
   },
   "outputs": [],
   "source": []
  },
  {
   "cell_type": "code",
   "execution_count": null,
   "metadata": {
    "collapsed": false
   },
   "outputs": [],
   "source": [
    "data.head()"
   ]
  },
  {
   "cell_type": "code",
   "execution_count": null,
   "metadata": {
    "collapsed": true
   },
   "outputs": [],
   "source": [
    "data=pd.read_csv('gene_high_throughput_sequencing.csv')"
   ]
  },
  {
   "cell_type": "code",
   "execution_count": null,
   "metadata": {
    "collapsed": false
   },
   "outputs": [],
   "source": [
    "data.head()"
   ]
  },
  {
   "cell_type": "code",
   "execution_count": null,
   "metadata": {
    "collapsed": false
   },
   "outputs": [],
   "source": []
  },
  {
   "cell_type": "code",
   "execution_count": null,
   "metadata": {
    "collapsed": false
   },
   "outputs": [],
   "source": [
    "norm_early(data['LOC643837'])"
   ]
  },
  {
   "cell_type": "code",
   "execution_count": 3,
   "metadata": {
    "collapsed": false
   },
   "outputs": [
    {
     "name": "stdout",
     "output_type": "stream",
     "text": [
      "1575\n"
     ]
    }
   ],
   "source": [
    "def norm_early(column):\n",
    "    a=column[:24]\n",
    "    b=column[24:49]\n",
    "    return scipy.stats.ttest_ind(a, b, equal_var = False)[1]\n",
    "c=data.ix[:,'LOC643837':].apply(norm_early,axis=0)\n",
    "c=list(c)\n",
    "x=[i for i in c if i<0.05]\n",
    "print len(x)"
   ]
  },
  {
   "cell_type": "code",
   "execution_count": 16,
   "metadata": {
    "collapsed": false
   },
   "outputs": [
    {
     "name": "stdout",
     "output_type": "stream",
     "text": [
      "3490\n"
     ]
    }
   ],
   "source": [
    "def early_cancer(column):\n",
    "    b=column[49:73]\n",
    "    a=column[24:49]\n",
    "    return scipy.stats.ttest_ind(a, b, equal_var = False)[1]\n",
    "t=data.ix[:,'LOC643837':].apply(early_cancer,axis=0)\n",
    "t=list(t)\n",
    "y=[i for i in t if i<0.05]\n",
    "print len(y)"
   ]
  },
  {
   "cell_type": "code",
   "execution_count": 30,
   "metadata": {
    "collapsed": false
   },
   "outputs": [
    {
     "name": "stdout",
     "output_type": "stream",
     "text": [
      "91\n"
     ]
    }
   ],
   "source": [
    "reject_t, p_corrected_t, a1_t, a2_t = smm.multipletests(t, \n",
    "                                            alpha = 0.05, \n",
    "                                            method = 'holm')\n",
    "def fold_change_early_cancer(column):\n",
    "    a=column[24:49]\n",
    "    b=column[49:72]\n",
    "    if b.mean()>a.mean():\n",
    "        return b.mean()/a.mean()\n",
    "    elif b.mean()<a.mean():\n",
    "        return -a.mean()/b.mean()\n",
    "    \n",
    "v=data.ix[:,'LOC643837':].apply(fold_change_early_cancer,axis=0)\n",
    "dictes=dict(zip(p_corrected_t,v))\n",
    "dictess=[k for k,j in dictes.items() if k<0.05 and abs(j)>1.5 ]\n",
    "print len(dictess)"
   ]
  },
  {
   "cell_type": "code",
   "execution_count": null,
   "metadata": {
    "collapsed": false
   },
   "outputs": [],
   "source": [
    "a=95\n",
    "with open(\"answer5.txt\", \"w\") as f:\n",
    "        f.write(str(a))"
   ]
  },
  {
   "cell_type": "code",
   "execution_count": 5,
   "metadata": {
    "collapsed": true
   },
   "outputs": [],
   "source": [
    "import statsmodels.stats.multitest as smm"
   ]
  },
  {
   "cell_type": "code",
   "execution_count": 29,
   "metadata": {
    "collapsed": false
   },
   "outputs": [
    {
     "name": "stdout",
     "output_type": "stream",
     "text": [
      "[0.012527423113260612, 0.031735620081790893, 0.034988975667658538, 0.0013383818900916007]\n"
     ]
    }
   ],
   "source": [
    "reject, p_corrected_c, a1, a2 = smm.multipletests(c, \n",
    "                                            alpha = 0.05, \n",
    "                                            method = 'holm') \n",
    "def fold_change_norm_early(column):\n",
    "    a=column[:24]\n",
    "    b=column[24:49]\n",
    "    if b.mean()>a.mean():\n",
    "        return b.mean()/a.mean()\n",
    "    else:\n",
    "        return -a.mean()/b.mean()\n",
    "z=data.ix[:,'LOC643837':].apply(fold_change_norm_early,axis=0)\n",
    "diction=dict(zip(p_corrected_c,z))\n",
    "d=[k for k,v in diction.items() if k<0.05 and v>1.5 ]\n",
    "print d"
   ]
  },
  {
   "cell_type": "code",
   "execution_count": 7,
   "metadata": {
    "collapsed": false
   },
   "outputs": [
    {
     "data": {
      "text/plain": [
       "2992"
      ]
     },
     "execution_count": 7,
     "metadata": {},
     "output_type": "execute_result"
    }
   ],
   "source": [
    "len(diction)"
   ]
  },
  {
   "cell_type": "code",
   "execution_count": 57,
   "metadata": {
    "collapsed": false
   },
   "outputs": [
    {
     "name": "stdout",
     "output_type": "stream",
     "text": [
      "3 95\n",
      "[0.0013383818900916007, 0.0087489105877149378, 0.006264109328368201]\n"
     ]
    }
   ],
   "source": [
    "reject, p_corrected_c, a1, a2 = smm.multipletests(c, \n",
    "                                            alpha = 0.025, \n",
    "                                            method = 'fdr_bh') \n",
    "def fold_change_norm_early(column):\n",
    "    a=column[:24]\n",
    "    b=column[24:49]\n",
    "    if b.mean()>a.mean():\n",
    "        return b.mean()/a.mean()\n",
    "    else:\n",
    "        return -a.mean()/b.mean()\n",
    "z=data.ix[:,'LOC643837':].apply(fold_change_norm_early,axis=0)\n",
    "diction=dict(zip(p_corrected_c,z))\n",
    "d=[k for k,v in diction.items() if k<0.025 and abs(v)>1.5 ]\n",
    "l=[v for k,v in diction.items() if abs(v)>1.5 ]\n",
    "print len(d),len(l)\n",
    "print d"
   ]
  },
  {
   "cell_type": "code",
   "execution_count": 55,
   "metadata": {
    "collapsed": false
   },
   "outputs": [
    {
     "name": "stdout",
     "output_type": "stream",
     "text": [
      "317\n"
     ]
    }
   ],
   "source": [
    "reject_t, p_corrected_t, a1_t, a2_t = smm.multipletests(t, \n",
    "                                            alpha = 0.025, \n",
    "                                            method = 'fdr_bh')\n",
    "def fold_change_early_cancer(column):\n",
    "    a=column[24:49]\n",
    "    b=column[49:72]\n",
    "    if b.mean()>a.mean():\n",
    "        return b.mean()/a.mean()\n",
    "    elif b.mean()<a.mean():\n",
    "        return -a.mean()/b.mean()\n",
    "    \n",
    "v=data.ix[:,'LOC643837':].apply(fold_change_early_cancer,axis=0)\n",
    "dictes=dict(zip(p_corrected_t,v))\n",
    "dictess=[k for k,j in dictes.items() if k<0.025 and abs(j)>1.5 ]\n",
    "print len(dictess)"
   ]
  },
  {
   "cell_type": "code",
   "execution_count": null,
   "metadata": {
    "collapsed": false
   },
   "outputs": [],
   "source": []
  },
  {
   "cell_type": "code",
   "execution_count": null,
   "metadata": {
    "collapsed": true
   },
   "outputs": [],
   "source": []
  },
  {
   "cell_type": "code",
   "execution_count": null,
   "metadata": {
    "collapsed": false
   },
   "outputs": [],
   "source": []
  },
  {
   "cell_type": "code",
   "execution_count": null,
   "metadata": {
    "collapsed": true
   },
   "outputs": [],
   "source": []
  },
  {
   "cell_type": "code",
   "execution_count": null,
   "metadata": {
    "collapsed": false
   },
   "outputs": [],
   "source": []
  },
  {
   "cell_type": "code",
   "execution_count": null,
   "metadata": {
    "collapsed": true
   },
   "outputs": [],
   "source": []
  }
 ],
 "metadata": {
  "kernelspec": {
   "display_name": "Python [default]",
   "language": "python",
   "name": "python2"
  },
  "language_info": {
   "codemirror_mode": {
    "name": "ipython",
    "version": 2
   },
   "file_extension": ".py",
   "mimetype": "text/x-python",
   "name": "python",
   "nbconvert_exporter": "python",
   "pygments_lexer": "ipython2",
   "version": "2.7.12"
  }
 },
 "nbformat": 4,
 "nbformat_minor": 1
}
