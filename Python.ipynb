{
 "cells": [
  {
   "cell_type": "markdown",
   "metadata": {},
   "source": [
    "\n",
    "# Python"
   ]
  },
  {
   "cell_type": "markdown",
   "metadata": {},
   "source": [
    "### FizzBuzz"
   ]
  },
  {
   "cell_type": "code",
   "execution_count": 19,
   "metadata": {
    "collapsed": false
   },
   "outputs": [
    {
     "name": "stdout",
     "output_type": "stream",
     "text": [
      "1 2 Fizz 4 Buzz Fizz 7 8 Fizz Buzz 11 Fizz 13 14 FizzBuzz 16 17 Fizz 19 Buzz Fizz 22 23 Fizz Buzz 26 Fizz 28 29 FizzBuzz 31 32 Fizz 34 Buzz Fizz 37 38 Fizz Buzz 41 Fizz 43 44 FizzBuzz 46 47 Fizz 49 Buzz Fizz 52 53 Fizz Buzz 56 Fizz 58 59 FizzBuzz 61 62 Fizz 64 Buzz Fizz 67 68 Fizz Buzz 71 Fizz 73 74 FizzBuzz 76 77 Fizz 79 Buzz Fizz 82 83 Fizz Buzz 86 Fizz 88 89 FizzBuzz 91 92 Fizz 94 Buzz Fizz 97 98 Fizz\n"
     ]
    }
   ],
   "source": [
    "\n",
    "for i in range(1,100):\n",
    "    if i%3==0 and i%5==0:\n",
    "        print 'FizzBuzz', \n",
    "    elif i%3==0:\n",
    "        print 'Fizz', \n",
    "    elif i%5==0:\n",
    "        print 'Buzz', \n",
    "    else:\n",
    "        print i, "
   ]
  },
  {
   "cell_type": "markdown",
   "metadata": {},
   "source": [
    "### Fib"
   ]
  },
  {
   "cell_type": "code",
   "execution_count": null,
   "metadata": {
    "collapsed": false
   },
   "outputs": [],
   "source": []
  },
  {
   "cell_type": "code",
   "execution_count": 65,
   "metadata": {
    "collapsed": false
   },
   "outputs": [
    {
     "name": "stdout",
     "output_type": "stream",
     "text": [
      "354224848179261915075\n"
     ]
    }
   ],
   "source": [
    "def fib(n):\n",
    "    a = 0\n",
    "    b = 1\n",
    "    for i in range(n):\n",
    "        a, b = b, a + b\n",
    "    return a\n",
    "print fib(100)"
   ]
  },
  {
   "cell_type": "markdown",
   "metadata": {},
   "source": [
    "### Qsort"
   ]
  },
  {
   "cell_type": "code",
   "execution_count": 68,
   "metadata": {
    "collapsed": false
   },
   "outputs": [
    {
     "name": "stdout",
     "output_type": "stream",
     "text": [
      "[1, 2, 3, 4, 5, 6, 7, 8, 9]\n"
     ]
    }
   ],
   "source": [
    "def qsort(list):\n",
    "    if list == []: \n",
    "        return []\n",
    "    else:\n",
    "        pivot = list[0]\n",
    "        left = qsort([x for x in list[1:] if x < pivot])\n",
    "        right = qsort([x for x in list[1:] if x >= pivot])\n",
    "        return left + [pivot] + right\n",
    "print qsort([9,1,8,2,7,3,6,4,5])"
   ]
  },
  {
   "cell_type": "code",
   "execution_count": 81,
   "metadata": {
    "collapsed": false
   },
   "outputs": [],
   "source": [
    "def qsorter(L):\n",
    "    if L: return qsorter([x for x in L if x<L[0]]) +([x for x in L if x==L[0]])+qsorter([x for x in L if x>L[0]])\n",
    "    return []"
   ]
  },
  {
   "cell_type": "code",
   "execution_count": 82,
   "metadata": {
    "collapsed": false
   },
   "outputs": [
    {
     "name": "stdout",
     "output_type": "stream",
     "text": [
      "[1, 2, 3, 4, 5, 6, 7, 8, 9]\n"
     ]
    }
   ],
   "source": [
    "print qsorter([9,1,8,2,7,3,6,4,5])"
   ]
  },
  {
   "cell_type": "markdown",
   "metadata": {},
   "source": [
    "### Numpy Linspace"
   ]
  },
  {
   "cell_type": "code",
   "execution_count": 135,
   "metadata": {
    "collapsed": false
   },
   "outputs": [
    {
     "name": "stdout",
     "output_type": "stream",
     "text": [
      "[2.0, 2.2, 2.4, 2.6, 2.8, 3.0]\n",
      "CPU times: user 140 µs, sys: 1 µs, total: 141 µs\n",
      "Wall time: 149 µs\n"
     ]
    }
   ],
   "source": [
    "%%time\n",
    "import numpy as np\n",
    "\n",
    "def lin(start,end,n):\n",
    "    L=[]\n",
    "    for i in range(n):\n",
    "        L.append(start + ((float(end)-start)*i/(n-1)))\n",
    "    return L\n",
    "print lin(2,3,6)"
   ]
  },
  {
   "cell_type": "code",
   "execution_count": 134,
   "metadata": {
    "collapsed": false
   },
   "outputs": [
    {
     "name": "stdout",
     "output_type": "stream",
     "text": [
      "[2.0, 2.2, 2.4, 2.6, 2.8, 3.0]\n",
      "CPU times: user 111 µs, sys: 30 µs, total: 141 µs\n",
      "Wall time: 126 µs\n"
     ]
    }
   ],
   "source": [
    "%%time\n",
    "def line(start,end,n):\n",
    "    return [start + (end-start)*x/(n-1) for x in range(n)]\n",
    "print line(2.,3,6)"
   ]
  },
  {
   "cell_type": "code",
   "execution_count": 133,
   "metadata": {
    "collapsed": false
   },
   "outputs": [
    {
     "name": "stdout",
     "output_type": "stream",
     "text": [
      "[ 2.   2.2  2.4  2.6  2.8  3. ]\n",
      "CPU times: user 1.11 ms, sys: 1.21 ms, total: 2.33 ms\n",
      "Wall time: 2.15 ms\n"
     ]
    }
   ],
   "source": [
    "%%time\n",
    "print np.linspace(2,3,6)"
   ]
  },
  {
   "cell_type": "markdown",
   "metadata": {},
   "source": [
    "### Matplotlib"
   ]
  },
  {
   "cell_type": "code",
   "execution_count": 260,
   "metadata": {
    "collapsed": false
   },
   "outputs": [
    {
     "data": {
      "image/png": "[encoded data removed]",
      "text/plain": [
       "<matplotlib.figure.Figure at 0x111b4db90>"
      ]
     },
     "metadata": {},
     "output_type": "display_data"
    }
   ],
   "source": [
    "from matplotlib import pylab as plt\n",
    "%matplotlib inline\n",
    "plt.figure(figsize=(15,5))\n",
    "plt.subplot(1,2,1)\n",
    "x = np.arange(-10, 10, 0.1)\n",
    "y = x ** 2\n",
    "x1=np.arange(-10, 10, 0.1)\n",
    "y1=np.exp(x1)/100\n",
    "x2=np.arange(0,10,0.1)\n",
    "y2=np.sqrt(x2)*40\n",
    "plt.plot(x, y,label='one')\n",
    "plt.plot(x1,y1,label='two')\n",
    "plt.plot(x2,y2,label='three')\n",
    "plt.legend(bbox_to_anchor=(-0.1, 0.3))\n",
    "plt.xlabel(\"x\")\n",
    "plt.ylabel(\"f(x)\")\n",
    "\n",
    "plt.subplot(1,2,2)\n",
    "x = np.arange(-10, 10, 0.1)\n",
    "y=x\n",
    "y1=x**3/100\n",
    "plt.plot(x,y,label='x=y')\n",
    "plt.plot(x,y1,label='y=x**3')\n",
    "plt.xlabel(\"x\")\n",
    "plt.ylabel(\"f(x)\")\n",
    "plt.legend(bbox_to_anchor=(1.3, 0.3))\n",
    "\n",
    "plt.savefig('plot.png')\n",
    "\n",
    "plt.show()\n"
   ]
  },
  {
   "cell_type": "markdown",
   "metadata": {},
   "source": [
    "### Sci py"
   ]
  },
  {
   "cell_type": "code",
   "execution_count": 288,
   "metadata": {
    "collapsed": false
   },
   "outputs": [
    {
     "name": "stdout",
     "output_type": "stream",
     "text": [
      "[[ 0.49671415 -0.1382643   0.64768854  1.52302986 -0.23415337]\n",
      " [-0.23413696  1.57921282  0.76743473 -0.46947439  0.54256004]\n",
      " [-0.46341769 -0.46572975  0.24196227 -1.91328024 -1.72491783]\n",
      " [-0.56228753 -1.01283112  0.31424733 -0.90802408 -1.4123037 ]\n",
      " [ 1.46564877 -0.2257763   0.0675282  -1.42474819 -0.54438272]]\n",
      "[ 0.44629002+0.j -1.69612003+0.j -0.31806525+0.j  0.40249642+0.j\n",
      "  0.18567388+0.j]\n",
      "[ 0.44629002+0.j -1.69612003+0.j -0.31806525+0.j  0.40249642+0.j\n",
      "  0.18567388+0.j]\n",
      "[ 0.44629002+0.j -1.69612003+0.j -0.31806525+0.j  0.40249642+0.j\n",
      "  0.18567388+0.j]\n",
      "[ 0.44629002+0.j -1.69612003+0.j -0.31806525+0.j  0.40249642+0.j\n",
      "  0.18567388+0.j]\n",
      "[ 0.44629002+0.j -1.69612003+0.j -0.31806525+0.j  0.40249642+0.j\n",
      "  0.18567388+0.j]\n",
      "[ 0.44629002+0.j -1.69612003+0.j -0.31806525+0.j  0.40249642+0.j\n",
      "  0.18567388+0.j]\n",
      "[ 0.44629002+0.j -1.69612003+0.j -0.31806525+0.j  0.40249642+0.j\n",
      "  0.18567388+0.j]\n",
      "[ 0.44629002+0.j -1.69612003+0.j -0.31806525+0.j  0.40249642+0.j\n",
      "  0.18567388+0.j]\n",
      "[ 0.44629002+0.j -1.69612003+0.j -0.31806525+0.j  0.40249642+0.j\n",
      "  0.18567388+0.j]\n",
      "[ 0.44629002+0.j -1.69612003+0.j -0.31806525+0.j  0.40249642+0.j\n",
      "  0.18567388+0.j]\n"
     ]
    }
   ],
   "source": [
    "np.random.seed(42)\n",
    "k=np.random.randn(5,5)\n",
    "print k\n",
    "num,vec=np.linalg.eig(k)\n",
    "\n",
    "for i in range(5):\n",
    "    print k.dot(vec[:,0])\n",
    "    print num[0]*vec[:,0]\n",
    "# То есть выполняется А*x=L*x, где L-собственное число матрицы, x-собственный вектор\n"
   ]
  },
  {
   "cell_type": "code",
   "execution_count": null,
   "metadata": {
    "collapsed": true
   },
   "outputs": [],
   "source": []
  }
 ],
 "metadata": {
  "anaconda-cloud": {},
  "kernelspec": {
   "display_name": "Python [Root]",
   "language": "python",
   "name": "Python [Root]"
  },
  "language_info": {
   "codemirror_mode": {
    "name": "ipython",
    "version": 2
   },
   "file_extension": ".py",
   "mimetype": "text/x-python",
   "name": "python",
   "nbconvert_exporter": "python",
   "pygments_lexer": "ipython2",
   "version": "2.7.12"
  }
 },
 "nbformat": 4,
 "nbformat_minor": 0
}
