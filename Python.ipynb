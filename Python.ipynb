{
 "cells": [
  {
   "cell_type": "markdown",
   "metadata": {},
   "source": [
    "\n",
    "# Python"
   ]
  },
  {
   "cell_type": "markdown",
   "metadata": {},
   "source": [
    "### FizzBuzz"
   ]
  },
  {
   "cell_type": "code",
   "execution_count": null,
   "metadata": {
    "collapsed": false
   },
   "outputs": [],
   "source": [
    "\n",
    "for i in range(1,100):\n",
    "    if i%3==0 and i%5==0:\n",
    "        print 'FizzBuzz', \n",
    "    elif i%3==0:\n",
    "        print 'Fizz', \n",
    "    elif i%5==0:\n",
    "        print 'Buzz', \n",
    "    else:\n",
    "        print i, "
   ]
  },
  {
   "cell_type": "markdown",
   "metadata": {},
   "source": [
    "### Fib"
   ]
  },
  {
   "cell_type": "code",
   "execution_count": null,
   "metadata": {
    "collapsed": false
   },
   "outputs": [],
   "source": []
  },
  {
   "cell_type": "code",
   "execution_count": null,
   "metadata": {
    "collapsed": false
   },
   "outputs": [],
   "source": [
    "def fib(n):\n",
    "    a = 0\n",
    "    b = 1\n",
    "    for i in range(n):\n",
    "        a, b = b, a + b\n",
    "    return a\n",
    "print fib(100)"
   ]
  },
  {
   "cell_type": "markdown",
   "metadata": {},
   "source": [
    "### Qsort"
   ]
  },
  {
   "cell_type": "code",
   "execution_count": null,
   "metadata": {
    "collapsed": false
   },
   "outputs": [],
   "source": [
    "def qsort(list):\n",
    "    if list == []: \n",
    "        return []\n",
    "    else:\n",
    "        pivot = list[0]\n",
    "        left = qsort([x for x in list[1:] if x < pivot])\n",
    "        right = qsort([x for x in list[1:] if x >= pivot])\n",
    "        return left + [pivot] + right\n",
    "print qsort([9,1,8,2,7,3,6,4,5])"
   ]
  },
  {
   "cell_type": "code",
   "execution_count": null,
   "metadata": {
    "collapsed": false
   },
   "outputs": [],
   "source": [
    "def qsorter(L):\n",
    "    if L: return qsorter([x for x in L if x<L[0]]) +([x for x in L if x==L[0]])+qsorter([x for x in L if x>L[0]])\n",
    "    return []"
   ]
  },
  {
   "cell_type": "code",
   "execution_count": null,
   "metadata": {
    "collapsed": false
   },
   "outputs": [],
   "source": [
    "print qsorter([9,1,8,2,7,3,6,4,5])"
   ]
  },
  {
   "cell_type": "markdown",
   "metadata": {},
   "source": [
    "### Numpy Linspace"
   ]
  },
  {
   "cell_type": "code",
   "execution_count": null,
   "metadata": {
    "collapsed": false
   },
   "outputs": [],
   "source": [
    "%%time\n",
    "import numpy as np\n",
    "\n",
    "def lin(start,end,n):\n",
    "    L=[]\n",
    "    for i in range(n):\n",
    "        L.append(start + ((float(end)-start)*i/(n-1)))\n",
    "    return L\n",
    "print lin(2,3,6)"
   ]
  },
  {
   "cell_type": "code",
   "execution_count": null,
   "metadata": {
    "collapsed": false
   },
   "outputs": [],
   "source": [
    "%%time\n",
    "def line(start,end,n):\n",
    "    return [start + (end-start)*x/(n-1) for x in range(n)]\n",
    "print line(2.,3,6)"
   ]
  },
  {
   "cell_type": "code",
   "execution_count": null,
   "metadata": {
    "collapsed": false
   },
   "outputs": [],
   "source": [
    "%%time\n",
    "print np.linspace(2,3,6)"
   ]
  },
  {
   "cell_type": "markdown",
   "metadata": {},
   "source": [
    "### Matplotlib"
   ]
  },
  {
   "cell_type": "code",
   "execution_count": null,
   "metadata": {
    "collapsed": false
   },
   "outputs": [],
   "source": [
    "from matplotlib import pylab as plt\n",
    "%matplotlib inline\n",
    "plt.figure(figsize=(15,5))\n",
    "plt.subplot(1,2,1)\n",
    "x = np.arange(-10, 10, 0.1)\n",
    "y = x ** 2\n",
    "x1=np.arange(-10, 10, 0.1)\n",
    "y1=np.exp(x1)/100\n",
    "x2=np.arange(0,10,0.1)\n",
    "y2=np.sqrt(x2)*40\n",
    "plt.plot(x, y,label='one')\n",
    "plt.plot(x1,y1,label='two')\n",
    "plt.plot(x2,y2,label='three')\n",
    "plt.legend(bbox_to_anchor=(-0.1, 0.3))\n",
    "plt.xlabel(\"x\")\n",
    "plt.ylabel(\"f(x)\")\n",
    "\n",
    "plt.subplot(1,2,2)\n",
    "x = np.arange(-10, 10, 0.1)\n",
    "y=x\n",
    "y1=x**3/100\n",
    "plt.plot(x,y,label='x=y')\n",
    "plt.plot(x,y1,label='y=x**3')\n",
    "plt.xlabel(\"x\")\n",
    "plt.ylabel(\"f(x)\")\n",
    "plt.legend(bbox_to_anchor=(1.3, 0.3))\n",
    "\n",
    "plt.savefig('plot.png')\n",
    "\n",
    "plt.show()\n"
   ]
  },
  {
   "cell_type": "markdown",
   "metadata": {},
   "source": [
    "### Sci py"
   ]
  },
  {
   "cell_type": "code",
   "execution_count": null,
   "metadata": {
    "collapsed": false
   },
   "outputs": [],
   "source": [
    "np.random.seed(42)\n",
    "k=np.random.randn(5,5)\n",
    "num,vec=np.linalg.eig(k)\n",
    "\n",
    "for i in range(5):\n",
    "    print np.allclose(k.dot(vec[:,i]),num[i]*vec[:,i],atol=1e-9)\n",
    "# То есть выполняется А*x=L*x, где L-собственное число матрицы, x-собственный вектор\n",
    "#Почему то array_equal не работает"
   ]
  },
  {
   "cell_type": "code",
   "execution_count": null,
   "metadata": {
    "collapsed": true
   },
   "outputs": [],
   "source": []
  }
 ],
 "metadata": {
  "anaconda-cloud": {},
  "kernelspec": {
   "display_name": "Python [Root]",
   "language": "python",
   "name": "Python [Root]"
  },
  "language_info": {
   "codemirror_mode": {
    "name": "ipython",
    "version": 2
   },
   "file_extension": ".py",
   "mimetype": "text/x-python",
   "name": "python",
   "nbconvert_exporter": "python",
   "pygments_lexer": "ipython2",
   "version": "2.7.12"
  }
 },
 "nbformat": 4,
 "nbformat_minor": 0
}
