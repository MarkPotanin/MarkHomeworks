{
 "cells": [
  {
   "cell_type": "markdown",
   "metadata": {},
   "source": [
    "# CIFAR Conv Net\n",
    "\n",
    "И так, в этом ноутбуке Вы сделаете превую в своей жизни сверточную сеть! На сложном датасете. Скачайте его кстати, \n",
    "\n",
    "```(bash)\n",
    "mkdir cifar10\n",
    "curl -o cifar-10-python.tar.gz https://www.cs.toronto.edu/~kriz/cifar-10-python.tar.gz\n",
    "tar -xvzf cifar-10-python.tar.gz -C cifar10\n",
    "```"
   ]
  },
  {
   "cell_type": "code",
   "execution_count": 20,
   "metadata": {
    "collapsed": false
   },
   "outputs": [
    {
     "data": {
      "text/plain": [
       "u'0.18.1'"
      ]
     },
     "execution_count": 20,
     "metadata": {},
     "output_type": "execute_result"
    }
   ],
   "source": [
    "import pandas as pd\n",
    "pd.__version__"
   ]
  },
  {
   "cell_type": "code",
   "execution_count": 2,
   "metadata": {
    "collapsed": false
   },
   "outputs": [],
   "source": [
    "import numpy as np\n",
    "import matplotlib.pyplot as plt\n",
    "\n",
    "%matplotlib inline"
   ]
  },
  {
   "cell_type": "code",
   "execution_count": 3,
   "metadata": {
    "collapsed": false
   },
   "outputs": [],
   "source": [
    "from cifar import load_CIFAR10\n",
    "plt.rcParams['figure.figsize'] = (10.0, 8.0) \n",
    "\n",
    "cifar10_dir = './cifar10/cifar-10-batches-py'\n",
    "X_train, y_train,X_test, y_test = load_CIFAR10(cifar10_dir)\n",
    "\n",
    "\n",
    "\n"
   ]
  },
  {
   "cell_type": "code",
   "execution_count": null,
   "metadata": {
    "collapsed": false
   },
   "outputs": [],
   "source": [
    "X_train.shape"
   ]
  },
  {
   "cell_type": "code",
   "execution_count": 4,
   "metadata": {
    "collapsed": true
   },
   "outputs": [],
   "source": [
    "X_train1 = X_train\n",
    "X_test1=X_test"
   ]
  },
  {
   "cell_type": "code",
   "execution_count": 5,
   "metadata": {
    "collapsed": false
   },
   "outputs": [],
   "source": [
    "y_train=y_train.astype(np.int64)\n",
    "y_test=y_test.astype(np.int64)\n",
    "X_train1=np.transpose(X_train1,(0,3,1,2))\n",
    "\n",
    "X_test1=np.transpose(X_test1,(0,3,1,2))"
   ]
  },
  {
   "cell_type": "code",
   "execution_count": null,
   "metadata": {
    "collapsed": false
   },
   "outputs": [],
   "source": []
  },
  {
   "cell_type": "code",
   "execution_count": null,
   "metadata": {
    "collapsed": false
   },
   "outputs": [],
   "source": []
  },
  {
   "cell_type": "code",
   "execution_count": null,
   "metadata": {
    "collapsed": true
   },
   "outputs": [],
   "source": []
  },
  {
   "cell_type": "code",
   "execution_count": null,
   "metadata": {
    "collapsed": false
   },
   "outputs": [],
   "source": []
  },
  {
   "cell_type": "code",
   "execution_count": 6,
   "metadata": {
    "collapsed": false
   },
   "outputs": [],
   "source": [
    "import lasagne\n",
    "from theano import tensor as T\n",
    "from lasagne.nonlinearities import *\n",
    "\n",
    "input_X = T.tensor4(\"X\")\n",
    "target_y = T.vector(\"target Y integer\",dtype='int64')"
   ]
  },
  {
   "cell_type": "code",
   "execution_count": null,
   "metadata": {
    "collapsed": false
   },
   "outputs": [],
   "source": []
  },
  {
   "cell_type": "markdown",
   "metadata": {},
   "source": [
    "Так задаётся архитектура нейронки"
   ]
  },
  {
   "cell_type": "code",
   "execution_count": null,
   "metadata": {
    "collapsed": true
   },
   "outputs": [],
   "source": []
  },
  {
   "cell_type": "code",
   "execution_count": 8,
   "metadata": {
    "collapsed": false
   },
   "outputs": [],
   "source": [
    "input_layer = lasagne.layers.InputLayer(shape=(None,3, 32, 32), input_var=input_X)\n",
    "nnet1 = lasagne.layers.Conv2DLayer(input_layer,num_filters=192,filter_size=5,nonlinearity=rectify)\n",
    "nnet2 = lasagne.layers.Conv2DLayer(nnet1,num_filters=160,filter_size=1,nonlinearity=rectify)\n",
    "nnet3 = lasagne.layers.Conv2DLayer(nnet2,num_filters=96,filter_size=1,nonlinearity=rectify)\n",
    "\n",
    "\n",
    "nnet4=lasagne.layers.Pool2DLayer(nnet3,pool_size=3,stride=2,mode='max')\n",
    "nnet5=lasagne.layers.DropoutLayer(nnet4,p=0.5)\n",
    "nnet6 = lasagne.layers.Conv2DLayer(nnet5,num_filters=192,filter_size=5,nonlinearity=rectify)\n",
    "nnet7 = lasagne.layers.Conv2DLayer(nnet6,num_filters=192,filter_size=1,nonlinearity=rectify)\n",
    "nnet8 = lasagne.layers.Conv2DLayer(nnet7,num_filters=192,filter_size=1,nonlinearity=rectify)\n",
    "nnet9=lasagne.layers.Pool2DLayer(nnet8,pool_size=3,stride=2,mode='average_exc_pad')\n",
    "nnet10=lasagne.layers.DropoutLayer(nnet9,p=0.5)\n",
    "nnet11 = lasagne.layers.Conv2DLayer(nnet10,num_filters=192,filter_size=3,nonlinearity=rectify)\n",
    "nnet12 = lasagne.layers.Conv2DLayer(nnet11,num_filters=192,filter_size=1,nonlinearity=rectify)\n",
    "nnet13 = lasagne.layers.Conv2DLayer(nnet12,num_filters=10,filter_size=1,nonlinearity=rectify)\n",
    "nnet14=lasagne.layers.Pool2DLayer(nnet8,pool_size=8,stride=1,mode='average_exc_pad')\n",
    "\n",
    "\n",
    "dense_output = lasagne.layers.DenseLayer(nnet14,num_units = 10, nonlinearity=softmax)\n",
    "\n",
    "##43 at beginning with loss 0.1 and lr=0.1 ---- work"
   ]
  },
  {
   "cell_type": "code",
   "execution_count": 8,
   "metadata": {
    "collapsed": false
   },
   "outputs": [],
   "source": [
    "from lasagne.layers import InputLayer, DropoutLayer, FlattenLayer\n",
    "from lasagne.layers import Conv2DLayer as ConvLayer\n",
    "from lasagne.layers import Pool2DLayer as PoolLayer"
   ]
  },
  {
   "cell_type": "code",
   "execution_count": 36,
   "metadata": {
    "collapsed": false
   },
   "outputs": [],
   "source": [
    "net1 = InputLayer((None, 3, 32, 32),input_var=input_X)\n",
    "net2= ConvLayer(net1,\n",
    "                             num_filters=192,\n",
    "                             filter_size=5,\n",
    "                             pad=2,\n",
    "                             flip_filters=False)\n",
    "net3 = ConvLayer(\n",
    "        net2, num_filters=160, filter_size=1, flip_filters=False)\n",
    "net4 = ConvLayer(\n",
    "        net3, num_filters=96, filter_size=1, flip_filters=False)\n",
    "net5 = PoolLayer(net4,\n",
    "                             pool_size=3,\n",
    "                             stride=2,\n",
    "                             mode='max',\n",
    "                             ignore_border=False)\n",
    "net6 = DropoutLayer(net5, p=0.5)\n",
    "net7 = ConvLayer(net6,\n",
    "                             num_filters=192,\n",
    "                             filter_size=5,\n",
    "                             pad=2,\n",
    "                             flip_filters=False)\n",
    "net8 = ConvLayer(\n",
    "        net7, num_filters=192, filter_size=1, flip_filters=False)\n",
    "net9 = ConvLayer(\n",
    "        net8, num_filters=192, filter_size=1, flip_filters=False)\n",
    "net10 = PoolLayer(net9,\n",
    "                             pool_size=3,\n",
    "                             stride=2,\n",
    "                             mode='average_exc_pad',\n",
    "                             ignore_border=False)\n",
    "net11 = DropoutLayer(net10, p=0.5)\n",
    "net12= ConvLayer(net11,\n",
    "                             num_filters=192,\n",
    "                             filter_size=3,\n",
    "                             pad=1,\n",
    "                             flip_filters=False)\n",
    "net13 = ConvLayer(\n",
    "        net12, num_filters=192, filter_size=1, flip_filters=False)\n",
    "net14 = ConvLayer(\n",
    "        net13, num_filters=10, filter_size=1, flip_filters=False)\n",
    "net15 = PoolLayer(net14,\n",
    "                             pool_size=8,\n",
    "                             mode='average_exc_pad',\n",
    "                             ignore_border=False)\n",
    "dense_output= FlattenLayer(net15)\n",
    "\n",
    "#dense_output = lasagne.layers.DenseLayer(net13,num_units = 10, nonlinearity=softmax)"
   ]
  },
  {
   "cell_type": "code",
   "execution_count": null,
   "metadata": {
    "collapsed": true
   },
   "outputs": [],
   "source": [
    "input_layer = lasagne.layers.InputLayer(shape=(None,3, 32, 32), input_var=input_X)\n",
    "nnet1 = lasagne.layers.Conv2DLayer(input_layer,num_filters=32,filter_size=3,nonlinearity=rectify)\n",
    "##nnet2 = lasagne.layers.Conv2DLayer(nnet1,num_filters=32,filter_size=5,pad=2,nonlinearity=rectify)\n",
    "nnet3=lasagne.layers.Pool2DLayer(nnet1,pool_size=2,stride=2)\n",
    "#nnet4=lasagne.layers.DropoutLayer(nnet3,p=0.25)\n",
    "nnet5=lasagne.layers.Conv2DLayer(nnet3,num_filters=64,filter_size=3,nonlinearity=rectify)\n",
    "nnet6=lasagne.layers.Conv2DLayer(nnet5,num_filters=64,filter_size=3,nonlinearity=rectify)\n",
    "nnet7=lasagne.layers.Pool2DLayer(nnet6,pool_size=2,stride=2)\n",
    "#nnet8=lasagne.layers.DropoutLayer(nnet7,p=0.25)\n",
    "#nnet9=lasagne.layers.Conv2DLayer(nnet7,num_filters=20,filter_size=5,pad=2,stride=1,nonlinearity=rectify)\n",
    "#nnet10=lasagne.layers.Pool2DLayer(nnet9,pool_size=2,stride=2)\n",
    "#nnet11=lasagne.layers.DropoutLayer(nnet10,p=0.25)\n",
    "#nnet12=lasagne.layers.FlattenLayer(nnet11)\n",
    "nnet13=lasagne.layers.DenseLayer(nnet7,num_units = 512, nonlinearity=rectify)\n",
    "nnet14=lasagne.layers.DropoutLayer(nnet13,p=0.5)\n",
    "# Для вдохновления \n",
    "# - http://torch.ch/blog/2015/07/30/cifar.html\n",
    "# - http://www.robots.ox.ac.uk/~vgg/research/very_deep/\n",
    "#- https://www.cs.unc.edu/~wliu/papers/GoogLeNet.pdf\n",
    "dense_output = lasagne.layers.DenseLayer(nnet14,num_units = 10, nonlinearity=softmax)\n",
    "\n",
    "##43 at beginning with loss 0.1 and lr=0.1 ---- work"
   ]
  },
  {
   "cell_type": "code",
   "execution_count": null,
   "metadata": {
    "collapsed": false
   },
   "outputs": [],
   "source": [
    "input_layer = lasagne.layers.InputLayer(shape=(None,3, 32, 32), input_var=input_X)\n",
    "nnet1 = lasagne.layers.Conv2DLayer(input_layer,num_filters=16,filter_size=5,pad=2,stride=1,nonlinearity=rectify)\n",
    "##nnet2 = lasagne.layers.Conv2DLayer(nnet1,num_filters=32,filter_size=5,pad=2,nonlinearity=rectify)\n",
    "nnet3=lasagne.layers.Pool2DLayer(nnet1,pool_size=2,stride=2)\n",
    "#nnet4=lasagne.layers.DropoutLayer(nnet3,p=0.25)\n",
    "nnet5=lasagne.layers.Conv2DLayer(nnet3,num_filters=20,filter_size=5,pad=2,stride=1,nonlinearity=rectify)\n",
    "#nnet6=lasagne.layers.Conv2DLayer(nnet5,num_filters=64,filter_size=5,pad=2,nonlinearity=rectify)\n",
    "nnet7=lasagne.layers.Pool2DLayer(nnet5,pool_size=2,stride=2)\n",
    "#nnet8=lasagne.layers.DropoutLayer(nnet7,p=0.25)\n",
    "nnet9=lasagne.layers.Conv2DLayer(nnet7,num_filters=20,filter_size=5,pad=2,stride=1,nonlinearity=rectify)\n",
    "nnet10=lasagne.layers.Pool2DLayer(nnet9,pool_size=2,stride=2)\n",
    "#nnet11=lasagne.layers.DropoutLayer(nnet10,p=0.25)\n",
    "#nnet12=lasagne.layers.FlattenLayer(nnet11)\n",
    "#nnet13=lasagne.layers.DenseLayer(nnet12,num_units = 512, nonlinearity=rectify)\n",
    "#nnet14=lasagne.layers.DropoutLayer(nnet13,p=0.5)\n",
    "# Для вдохновления \n",
    "# - http://torch.ch/blog/2015/07/30/cifar.html\n",
    "# - http://www.robots.ox.ac.uk/~vgg/research/very_deep/\n",
    "#- https://www.cs.unc.edu/~wliu/papers/GoogLeNet.pdf\n",
    "dense_output = lasagne.layers.DenseLayer(nnet10,num_units = 10, nonlinearity=softmax)\n",
    "#29 at the beginning with loss=0.01"
   ]
  },
  {
   "cell_type": "code",
   "execution_count": null,
   "metadata": {
    "collapsed": false
   },
   "outputs": [],
   "source": [
    "input_layer = lasagne.layers.InputLayer(shape=(None,3, 32, 32), input_var=input_X)\n",
    "nnet1 = lasagne.layers.Conv2DLayer(input_layer,num_filters=32,filter_size=3,nonlinearity=rectify)\n",
    "nnet2 = lasagne.layers.Conv2DLayer(nnet1,num_filters=32,filter_size=3,nonlinearity=rectify)\n",
    "nnet3=lasagne.layers.Pool2DLayer(nnet2,pool_size=3)\n",
    "nnet4=lasagne.layers.DropoutLayer(nnet3,p=0.25)\n",
    "nnet5=lasagne.layers.Conv2DLayer(nnet4,num_filters=64,filter_size=3,nonlinearity=rectify)\n",
    "nnet6=lasagne.layers.Conv2DLayer(nnet5,num_filters=64,filter_size=3,nonlinearity=rectify)\n",
    "nnet7=lasagne.layers.Pool2DLayer(nnet6,pool_size=3)\n",
    "nnet8=lasagne.layers.DropoutLayer(nnet7,p=0.25)\n",
    "nnet9=lasagne.layers.FlattenLayer(nnet8)\n",
    "net10=lasagne.layers.DenseLayer(nnet9,num_units = 512, nonlinearity=rectify)\n",
    "nnet11=lasagne.layers.DropoutLayer(nnet10,p=0.5)\n",
    "#Для вдохновления \n",
    "# - http://torch.ch/blog/2015/07/30/cifar.html\n",
    "# - http://www.robots.ox.ac.uk/~vgg/research/very_deep/\n",
    "#- https://www.cs.unc.edu/~wliu/papers/GoogLeNet.pdf\n",
    "dense_output = lasagne.layers.DenseLayer(nnet11,num_units = 10, nonlinearity=softmax)\n",
    "##21 at start with loss0.01"
   ]
  },
  {
   "cell_type": "code",
   "execution_count": null,
   "metadata": {
    "collapsed": false
   },
   "outputs": [],
   "source": [
    "##something absolutely new!!!!!!!\n",
    "from lasagne.layers import batch_norm\n",
    "input_layer = lasagne.layers.InputLayer(shape=(None,3, 32, 32), input_var=input_X)\n",
    "nnet1 = batch_norm(lasagne.layers.Conv2DLayer(input_layer,num_filters=32,filter_size=3,\n",
    "                                              W=lasagne.init.HeUniform(),pad='same',nonlinearity=rectify))\n",
    "nnet2 = batch_norm(lasagne.layers.Conv2DLayer(input_layer,num_filters=32,\n",
    "                                filter_size=3,W=lasagne.init.HeUniform(),pad='same',nonlinearity=rectify))\n",
    "nnet3=lasagne.layers.MaxPool2DLayer(nnet2,pool_size=2)\n",
    "nnet4=lasagne.layers.DropoutLayer(nnet3,p=0.25)\n",
    "nnet5= batch_norm(lasagne.layers.Conv2DLayer(nnet4,num_filters=64,\n",
    "                                    filter_size=3,W=lasagne.init.HeUniform(),pad='same',nonlinearity=rectify))\n",
    "nnet6=batch_norm(lasagne.layers.Conv2DLayer(nnet5,num_filters=64,\n",
    "                                    filter_size=3,W=lasagne.init.HeUniform(),pad='same',nonlinearity=rectify))\n",
    "nnet7=lasagne.layers.MaxPool2DLayer(nnet6,pool_size=2)\n",
    "nnet8=lasagne.layers.DropoutLayer(nnet7,p=0.25)\n",
    "net9=batch_norm(lasagne.layers.DenseLayer(nnet8,num_units=512,nonlinearity=lasagne.nonlinearities.rectify))\n",
    "net10=lasagne.layers.DropoutLayer(nnet9,p=0.5)\n",
    "\n",
    "\n",
    "dense_output = lasagne.layers.DenseLayer(nnet10,num_units = 10, nonlinearity=softmax)\n",
    "\n"
   ]
  },
  {
   "cell_type": "code",
   "execution_count": 11,
   "metadata": {
    "collapsed": false
   },
   "outputs": [],
   "source": [
    "#предсказание нейронки (theano-преобразование)\n",
    "y_predicted = lasagne.layers.get_output(dense_output)"
   ]
  },
  {
   "cell_type": "code",
   "execution_count": 12,
   "metadata": {
    "collapsed": false
   },
   "outputs": [
    {
     "name": "stdout",
     "output_type": "stream",
     "text": [
      "[W, b, W, b, W, b, W, b, W, b, W, b, W, b]\n"
     ]
    }
   ],
   "source": [
    "#все веса нейронки (shared-переменные)\n",
    "all_weights = lasagne.layers.get_all_params(dense_output,trainable=True)\n",
    "print all_weights"
   ]
  },
  {
   "cell_type": "markdown",
   "metadata": {},
   "source": [
    "### дальше вы могли бы просто\n",
    "* задать функцию ошибки вручную\n",
    "* посчитать градиент ошибки по all_weights\n",
    "* написать updates\n",
    "* но это долго, а простой шаг по градиенту - не самый лучший смособ оптимизировать веса\n",
    "\n",
    "Вместо этого, опять используем lasagne"
   ]
  },
  {
   "cell_type": "code",
   "execution_count": 13,
   "metadata": {
    "collapsed": false
   },
   "outputs": [],
   "source": [
    "loss = lasagne.objectives.categorical_crossentropy(y_predicted,target_y).mean()\n",
    "regu_loss = lasagne.regularization.regularize_network_params(\n",
    "        dense_output, lasagne.regularization.l2)\n",
    "loss = loss + 0.01 * regu_loss\n",
    "accuracy = lasagne.objectives.categorical_accuracy(y_predicted,target_y).mean()\n",
    "#updates = lasagne.updates.momentum(loss, all_weights,learning_rate=0.1,momentum=0.9)\n",
    "updates = lasagne.updates.adadelta(loss, all_weights,learning_rate=0.01)"
   ]
  },
  {
   "cell_type": "code",
   "execution_count": 14,
   "metadata": {
    "collapsed": false
   },
   "outputs": [],
   "source": [
    "train_fun = theano.function([input_X,target_y],[loss, accuracy], updates=updates, allow_input_downcast = True)\n",
    "accuracy_fun = theano.function([input_X,target_y],accuracy, allow_input_downcast = True)"
   ]
  },
  {
   "cell_type": "markdown",
   "metadata": {},
   "source": [
    "### Вот и всё, пошли её учить"
   ]
  },
  {
   "cell_type": "code",
   "execution_count": 15,
   "metadata": {
    "collapsed": true
   },
   "outputs": [],
   "source": [
    "def iterate_minibatches(inputs, targets, batchsize, shuffle=False):\n",
    "    assert len(inputs) == len(targets)\n",
    "    if shuffle:\n",
    "        indices = np.arange(len(inputs))\n",
    "        np.random.shuffle(indices)\n",
    "    for start_idx in range(0, len(inputs) - batchsize + 1, batchsize):\n",
    "        if shuffle:\n",
    "            excerpt = indices[start_idx:start_idx + batchsize]\n",
    "        else:\n",
    "            excerpt = slice(start_idx, start_idx + batchsize)\n",
    "        yield inputs[excerpt], targets[excerpt]"
   ]
  },
  {
   "cell_type": "code",
   "execution_count": null,
   "metadata": {
    "collapsed": false
   },
   "outputs": [],
   "source": [
    "lr=0.01 and loss =0.01 show good performance!"
   ]
  },
  {
   "cell_type": "code",
   "execution_count": null,
   "metadata": {
    "collapsed": true
   },
   "outputs": [],
   "source": []
  },
  {
   "cell_type": "code",
   "execution_count": null,
   "metadata": {
    "collapsed": false
   },
   "outputs": [],
   "source": [
    "import cPickle as pickle\n",
    "import os\n",
    "__all__ = [\n",
    "    'read_model_data',\n",
    "    'write_model_data',\n",
    "]\n",
    "\n",
    "PARAM_EXTENSION = 'params'\n",
    "def read_model_data(model, filename):\n",
    "    \"\"\"Unpickles and loads parameters into a Lasagne model.\"\"\"\n",
    "    filename = os.path.join('./', '%s.%s' % (filename, PARAM_EXTENSION))\n",
    "    with open(filename, 'r') as f:\n",
    "        data = pickle.load(f)\n",
    "    lasagne.layers.set_all_param_values(model, data)\n",
    "\n",
    "\n",
    "def write_model_data(model, filename):\n",
    "    \"\"\"Pickels the parameters within a Lasagne model.\"\"\"\n",
    "    data = lasagne.layers.get_all_param_values(model)\n",
    "    filename = os.path.join('./', filename)\n",
    "    filename = '%s.%s' % (filename, PARAM_EXTENSION)\n",
    "    with open(filename, 'w') as f:\n",
    "        pickle.dump(data, f)"
   ]
  },
  {
   "cell_type": "code",
   "execution_count": null,
   "metadata": {
    "collapsed": false
   },
   "outputs": [],
   "source": [
    "write_model_data(dense_output,'param50')"
   ]
  },
  {
   "cell_type": "code",
   "execution_count": null,
   "metadata": {
    "collapsed": false
   },
   "outputs": [],
   "source": [
    "read_model_data(dense_output,'param50')"
   ]
  },
  {
   "cell_type": "code",
   "execution_count": null,
   "metadata": {
    "collapsed": false
   },
   "outputs": [],
   "source": [
    "a=lasagne.layers.get_all_param_values(dense_output,trainable=True)"
   ]
  },
  {
   "cell_type": "markdown",
   "metadata": {},
   "source": [
    "# Процесс обучения"
   ]
  },
  {
   "cell_type": "code",
   "execution_count": 16,
   "metadata": {
    "collapsed": false,
    "scrolled": false
   },
   "outputs": [
    {
     "name": "stdout",
     "output_type": "stream",
     "text": [
      "Epoch 1 of 10 took 1609.126s\n",
      "  training loss (in-iteration):\t\t10.069223\n",
      "  train accuracy:\t\t26.33 %\n",
      "  validation accuracy:\t\t32.37 %\n",
      "Epoch 2 of 10 took 1519.378s\n",
      "  training loss (in-iteration):\t\t8.928929\n",
      "  train accuracy:\t\t37.84 %\n",
      "  validation accuracy:\t\t39.77 %\n"
     ]
    },
    {
     "ename": "KeyboardInterrupt",
     "evalue": "",
     "output_type": "error",
     "traceback": [
      "\u001b[0;31m---------------------------------------------------------------------------\u001b[0m",
      "\u001b[0;31mKeyboardInterrupt\u001b[0m                         Traceback (most recent call last)",
      "\u001b[0;32m<ipython-input-16-44ccfdf01d73>\u001b[0m in \u001b[0;36m<module>\u001b[0;34m()\u001b[0m\n\u001b[1;32m     13\u001b[0m     \u001b[0;32mfor\u001b[0m \u001b[0mbatch\u001b[0m \u001b[0;32min\u001b[0m \u001b[0miterate_minibatches\u001b[0m\u001b[0;34m(\u001b[0m\u001b[0mX_train1\u001b[0m\u001b[0;34m,\u001b[0m \u001b[0my_train\u001b[0m\u001b[0;34m,\u001b[0m\u001b[0mbatch_size\u001b[0m\u001b[0;34m)\u001b[0m\u001b[0;34m:\u001b[0m\u001b[0;34m\u001b[0m\u001b[0m\n\u001b[1;32m     14\u001b[0m         \u001b[0minputs\u001b[0m\u001b[0;34m,\u001b[0m \u001b[0mtargets\u001b[0m \u001b[0;34m=\u001b[0m \u001b[0mbatch\u001b[0m\u001b[0;34m\u001b[0m\u001b[0m\n\u001b[0;32m---> 15\u001b[0;31m         \u001b[0mtrain_err_batch\u001b[0m\u001b[0;34m,\u001b[0m \u001b[0mtrain_acc_batch\u001b[0m\u001b[0;34m=\u001b[0m \u001b[0mtrain_fun\u001b[0m\u001b[0;34m(\u001b[0m\u001b[0minputs\u001b[0m\u001b[0;34m,\u001b[0m \u001b[0mtargets\u001b[0m\u001b[0;34m)\u001b[0m\u001b[0;34m\u001b[0m\u001b[0m\n\u001b[0m\u001b[1;32m     16\u001b[0m         \u001b[0mtrain_err\u001b[0m \u001b[0;34m+=\u001b[0m \u001b[0mtrain_err_batch\u001b[0m\u001b[0;34m\u001b[0m\u001b[0m\n\u001b[1;32m     17\u001b[0m         \u001b[0mtrain_acc\u001b[0m \u001b[0;34m+=\u001b[0m \u001b[0mtrain_acc_batch\u001b[0m\u001b[0;34m\u001b[0m\u001b[0m\n",
      "\u001b[0;32m/Users/MarkPotanin/anaconda/lib/python2.7/site-packages/theano/compile/function_module.pyc\u001b[0m in \u001b[0;36m__call__\u001b[0;34m(self, *args, **kwargs)\u001b[0m\n\u001b[1;32m    871\u001b[0m         \u001b[0;32mtry\u001b[0m\u001b[0;34m:\u001b[0m\u001b[0;34m\u001b[0m\u001b[0m\n\u001b[1;32m    872\u001b[0m             \u001b[0moutputs\u001b[0m \u001b[0;34m=\u001b[0m\u001b[0;31m\\\u001b[0m\u001b[0;34m\u001b[0m\u001b[0m\n\u001b[0;32m--> 873\u001b[0;31m                 \u001b[0mself\u001b[0m\u001b[0;34m.\u001b[0m\u001b[0mfn\u001b[0m\u001b[0;34m(\u001b[0m\u001b[0;34m)\u001b[0m \u001b[0;32mif\u001b[0m \u001b[0moutput_subset\u001b[0m \u001b[0;32mis\u001b[0m \u001b[0mNone\u001b[0m \u001b[0;32melse\u001b[0m\u001b[0;31m\\\u001b[0m\u001b[0;34m\u001b[0m\u001b[0m\n\u001b[0m\u001b[1;32m    874\u001b[0m                 \u001b[0mself\u001b[0m\u001b[0;34m.\u001b[0m\u001b[0mfn\u001b[0m\u001b[0;34m(\u001b[0m\u001b[0moutput_subset\u001b[0m\u001b[0;34m=\u001b[0m\u001b[0moutput_subset\u001b[0m\u001b[0;34m)\u001b[0m\u001b[0;34m\u001b[0m\u001b[0m\n\u001b[1;32m    875\u001b[0m         \u001b[0;32mexcept\u001b[0m \u001b[0mException\u001b[0m\u001b[0;34m:\u001b[0m\u001b[0;34m\u001b[0m\u001b[0m\n",
      "\u001b[0;31mKeyboardInterrupt\u001b[0m: "
     ]
    }
   ],
   "source": [
    "import time\n",
    "\n",
    "num_epochs = 10 #количество проходов по данным\n",
    "\n",
    "batch_size = 100 #размер мини-батча\n",
    "\n",
    "for epoch in range(num_epochs):\n",
    "    # In each epoch, we do a full pass over the training data:\n",
    "    train_err = 0\n",
    "    train_acc = 0\n",
    "    train_batches = 0\n",
    "    start_time = time.time()\n",
    "    for batch in iterate_minibatches(X_train1, y_train,batch_size):\n",
    "        inputs, targets = batch\n",
    "        train_err_batch, train_acc_batch= train_fun(inputs, targets)\n",
    "        train_err += train_err_batch\n",
    "        train_acc += train_acc_batch\n",
    "        train_batches += 1\n",
    "\n",
    "    # And a full pass over the validation data:\n",
    "    val_acc = 0\n",
    "    val_batches = 0\n",
    "    for batch in iterate_minibatches(X_test1, y_test, batch_size):\n",
    "        inputs, targets = batch\n",
    "        val_acc += accuracy_fun(inputs, targets)\n",
    "        val_batches += 1\n",
    "\n",
    "    \n",
    "    # Then we print the results for this epoch:\n",
    "    print(\"Epoch {} of {} took {:.3f}s\".format(\n",
    "        epoch + 1, num_epochs, time.time() - start_time))\n",
    "\n",
    "    print(\"  training loss (in-iteration):\\t\\t{:.6f}\".format(train_err / train_batches))\n",
    "    print(\"  train accuracy:\\t\\t{:.2f} %\".format(\n",
    "        train_acc / train_batches * 100))\n",
    "    print(\"  validation accuracy:\\t\\t{:.2f} %\".format(\n",
    "        val_acc / val_batches * 100))"
   ]
  },
  {
   "cell_type": "code",
   "execution_count": null,
   "metadata": {
    "collapsed": false
   },
   "outputs": [],
   "source": [
    "test_acc = 0\n",
    "test_batches = 0\n",
    "for batch in iterate_minibatches(X_test1, y_test, 500):\n",
    "    inputs, targets = batch\n",
    "    acc = accuracy_fun(inputs, targets)\n",
    "    test_acc += acc\n",
    "    test_batches += 1\n",
    "print(\"Final results:\")\n",
    "print(\"  test accuracy:\\t\\t{:.2f} %\".format(\n",
    "    test_acc / test_batches * 100))\n",
    "\n",
    "if test_acc / test_batches * 100 > 80:\n",
    "    print \"Achievement unlocked: колдун 80 уровня\"\n",
    "else:\n",
    "    print \"Нужно больше магии!\""
   ]
  },
  {
   "cell_type": "markdown",
   "metadata": {},
   "source": [
    "## Заполните форму\n",
    "\n",
    "https://goo.gl/forms/FsANPB1jSqmX1JBJ3"
   ]
  }
 ],
 "metadata": {
  "anaconda-cloud": {},
  "kernelspec": {
   "display_name": "Python [default]",
   "language": "python",
   "name": "python2"
  },
  "language_info": {
   "codemirror_mode": {
    "name": "ipython",
    "version": 2
   },
   "file_extension": ".py",
   "mimetype": "text/x-python",
   "name": "python",
   "nbconvert_exporter": "python",
   "pygments_lexer": "ipython2",
   "version": "2.7.12"
  }
 },
 "nbformat": 4,
 "nbformat_minor": 0
}
